{
 "cells": [
  {
   "cell_type": "code",
   "execution_count": 1,
   "id": "acd0dc31",
   "metadata": {},
   "outputs": [
    {
     "ename": "SyntaxError",
     "evalue": "invalid syntax (351504438.py, line 2)",
     "output_type": "error",
     "traceback": [
      "\u001b[0;36m  File \u001b[0;32m\"/var/folders/36/nqq61ypd1tvg6r10cs7jqzbm0000gn/T/ipykernel_10786/351504438.py\"\u001b[0;36m, line \u001b[0;32m2\u001b[0m\n\u001b[0;31m    conda install yfinance\u001b[0m\n\u001b[0m          ^\u001b[0m\n\u001b[0;31mSyntaxError\u001b[0m\u001b[0;31m:\u001b[0m invalid syntax\n"
     ]
    }
   ],
   "source": [
    "# Import and view data\n",
    "import pandas as pd\n",
    "import numpy as np\n",
    "import matplotlib.pyplot as plt\n",
    "import yfinance as yf\n",
    "import datetime\n",
    "\n",
    "path = '/Users/admin/Desktop/Fin427/Code'\n",
    "\n",
    "start = datetime.datetime(1995, 5, 4)\n",
    "end = datetime.datetime(2022, 12, 20)\n",
    "spy = yf.download('SPY', start=start, end=end)\n",
    "mdy = yf.download('MDY', start=start, end=end)\n",
    "print(mdy.columns)\n",
    "print(mdy.head())\n",
    "print(mdy['Adj Close'])\n",
    "mdy['cumret']=mdy['Adj Close']/mdy['Adj Close'][0]\n",
    "spy['cumret']=spy['Adj Close']/spy['Adj Close'][0]\n",
    "mdy.to_csv(path + 'mdy.csv', index=True)\n",
    "spy.to_csv(path + 'spy.csv', index=True)\n",
    "mdy.to_excel(path + 'mdy.xlsx', index=True, sheet_name='mdy')\n",
    "spy.to_excel(path + 'spy.xlsx', index=True, sheet_name='spy')\n",
    "\n",
    "mdy['cumret'].plot(label='MDY', color='cyan')\n",
    "spy['cumret'].plot(label='SPY', color='purple')\n",
    "\n",
    "plt.title('Cumulative Return to $1')\n",
    "plt.xlabel('Date')\n",
    "plt.legend()\n",
    "plt.savefig(path + 'returns.jpg')\n",
    "plt.show()\n",
    "\n"
   ]
  },
  {
   "cell_type": "code",
   "execution_count": null,
   "id": "27afc4d1",
   "metadata": {},
   "outputs": [],
   "source": []
  }
 ],
 "metadata": {
  "kernelspec": {
   "display_name": "Python 3 (ipykernel)",
   "language": "python",
   "name": "python3"
  },
  "language_info": {
   "codemirror_mode": {
    "name": "ipython",
    "version": 3
   },
   "file_extension": ".py",
   "mimetype": "text/x-python",
   "name": "python",
   "nbconvert_exporter": "python",
   "pygments_lexer": "ipython3",
   "version": "3.9.13"
  }
 },
 "nbformat": 4,
 "nbformat_minor": 5
}
